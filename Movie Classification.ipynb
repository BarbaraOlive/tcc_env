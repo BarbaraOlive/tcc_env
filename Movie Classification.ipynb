{
  "cells": [
    {
      "cell_type": "markdown",
      "metadata": {
        "id": "view-in-github",
        "colab_type": "text"
      },
      "source": [
        "<a href=\"https://colab.research.google.com/github/BarbaraOlive/tcc_env/blob/main/Movie%20Classification.ipynb\" target=\"_parent\"><img src=\"https://colab.research.google.com/assets/colab-badge.svg\" alt=\"Open In Colab\"/></a>"
      ]
    },
    {
      "cell_type": "code",
      "execution_count": 1,
      "id": "407babe6",
      "metadata": {
        "scrolled": true,
        "id": "407babe6"
      },
      "outputs": [],
      "source": [
        "import pandas as pd\n",
        "import numpy as np\n",
        "import matplotlib.pyplot as plt\n",
        "import seaborn as sns\n",
        "import os"
      ]
    },
    {
      "cell_type": "code",
      "execution_count": 2,
      "id": "895c2a25",
      "metadata": {
        "id": "895c2a25"
      },
      "outputs": [],
      "source": [
        "sns.set_palette('rainbow',8, 0.45)"
      ]
    },
    {
      "cell_type": "code",
      "execution_count": 4,
      "id": "095f22e6",
      "metadata": {
        "id": "095f22e6"
      },
      "outputs": [],
      "source": [
        "# to run when local\n",
        "# files_path = 'Files'"
      ]
    },
    {
      "cell_type": "code",
      "execution_count": 3,
      "id": "2824af4a",
      "metadata": {
        "id": "2824af4a"
      },
      "outputs": [],
      "source": [
        "# loading datasets when local\n",
        "# rt_movies = pd.read_csv(os.path.join(files_path, \"rotten_tomatoes_movies.csv\"))\n",
        "# rt_reviews = pd.read_csv(os.path.join(files_path, \"rotten_tomatoes_critic_reviews.csv\"))"
      ]
    },
    {
      "cell_type": "code",
      "source": [
        "# mounting Drive to load files from\n",
        "from google.colab import drive\n",
        "drive.mount('/content/drive')"
      ],
      "metadata": {
        "colab": {
          "base_uri": "https://localhost:8080/"
        },
        "id": "kktuAl2kmeuK",
        "outputId": "7552f7dc-5caa-42a1-9898-4f3c75ae19e8"
      },
      "id": "kktuAl2kmeuK",
      "execution_count": 8,
      "outputs": [
        {
          "output_type": "stream",
          "name": "stdout",
          "text": [
            "Mounted at /content/drive\n"
          ]
        }
      ]
    },
    {
      "cell_type": "code",
      "source": [
        "# loading Movies dataset from github\n",
        "url = \"https://media.githubusercontent.com/media/BarbaraOlive/tcc_env/main/Files/rotten_tomatoes_movies.csv\"\n",
        "rt_movies = pd.read_csv(url)"
      ],
      "metadata": {
        "id": "XVsLCkbZnCdB"
      },
      "id": "XVsLCkbZnCdB",
      "execution_count": 4,
      "outputs": []
    },
    {
      "cell_type": "code",
      "source": [
        "# loading Reviews dataset from github\n",
        "url = \"https://media.githubusercontent.com/media/BarbaraOlive/tcc_env/main/Files/rotten_tomatoes_critic_reviews.csv\"\n",
        "# url = \"/content/drive/MyDrive/TCC/Pós Graduação/Files/rotten_tomatoes_critic_reviews.csv\" # to load from Drive\n",
        "rt_reviews = pd.read_csv(url)"
      ],
      "metadata": {
        "id": "weFMyUbSELWk"
      },
      "execution_count": 6,
      "outputs": [],
      "id": "weFMyUbSELWk"
    },
    {
      "cell_type": "markdown",
      "id": "b37501c2",
      "metadata": {
        "id": "b37501c2"
      },
      "source": [
        "## Análise Exploratória"
      ]
    },
    {
      "cell_type": "code",
      "source": [
        "from google.colab import drive\n",
        "drive.mount('/content/drive')"
      ],
      "metadata": {
        "id": "qVruYrIOEW7E",
        "outputId": "9f87f36a-bd4a-4e3b-cb1a-97cac792f1d9",
        "colab": {
          "base_uri": "https://localhost:8080/"
        }
      },
      "id": "qVruYrIOEW7E",
      "execution_count": 7,
      "outputs": [
        {
          "output_type": "stream",
          "name": "stdout",
          "text": [
            "Mounted at /content/drive\n"
          ]
        }
      ]
    },
    {
      "cell_type": "code",
      "execution_count": 5,
      "id": "602479e5",
      "metadata": {
        "scrolled": true,
        "colab": {
          "base_uri": "https://localhost:8080/",
          "height": 396
        },
        "id": "602479e5",
        "outputId": "05ec228d-d5f8-48c8-97c3-c91331b99df2"
      },
      "outputs": [
        {
          "output_type": "execute_result",
          "data": {
            "text/plain": [
              "  rotten_tomatoes_link                                        movie_title  \\\n",
              "0            m/0814255  Percy Jackson & the Olympians: The Lightning T...   \n",
              "1            m/0878835                                        Please Give   \n",
              "\n",
              "                                          movie_info  \\\n",
              "0  Always trouble-prone, the life of teenager Per...   \n",
              "1  Kate (Catherine Keener) and her husband Alex (...   \n",
              "\n",
              "                                   critics_consensus content_rating  \\\n",
              "0  Though it may seem like just another Harry Pot...             PG   \n",
              "1  Nicole Holofcener's newest might seem slight i...              R   \n",
              "\n",
              "                                              genres          directors  \\\n",
              "0  Action & Adventure, Comedy, Drama, Science Fic...     Chris Columbus   \n",
              "1                                             Comedy  Nicole Holofcener   \n",
              "\n",
              "                                      authors  \\\n",
              "0  Craig Titley, Chris Columbus, Rick Riordan   \n",
              "1                           Nicole Holofcener   \n",
              "\n",
              "                                              actors original_release_date  \\\n",
              "0  Logan Lerman, Brandon T. Jackson, Alexandra Da...            2010-02-12   \n",
              "1  Catherine Keener, Amanda Peet, Oliver Platt, R...            2010-04-30   \n",
              "\n",
              "   ...      production_company  tomatometer_status tomatometer_rating  \\\n",
              "0  ...        20th Century Fox              Rotten               49.0   \n",
              "1  ...  Sony Pictures Classics     Certified-Fresh               87.0   \n",
              "\n",
              "  tomatometer_count  audience_status  audience_rating audience_count  \\\n",
              "0             149.0          Spilled             53.0       254421.0   \n",
              "1             142.0          Upright             64.0        11574.0   \n",
              "\n",
              "   tomatometer_top_critics_count  tomatometer_fresh_critics_count  \\\n",
              "0                             43                               73   \n",
              "1                             44                              123   \n",
              "\n",
              "   tomatometer_rotten_critics_count  \n",
              "0                                76  \n",
              "1                                19  \n",
              "\n",
              "[2 rows x 22 columns]"
            ],
            "text/html": [
              "\n",
              "  <div id=\"df-b9f0fc81-a261-4d55-8f04-4fe945445fcb\">\n",
              "    <div class=\"colab-df-container\">\n",
              "      <div>\n",
              "<style scoped>\n",
              "    .dataframe tbody tr th:only-of-type {\n",
              "        vertical-align: middle;\n",
              "    }\n",
              "\n",
              "    .dataframe tbody tr th {\n",
              "        vertical-align: top;\n",
              "    }\n",
              "\n",
              "    .dataframe thead th {\n",
              "        text-align: right;\n",
              "    }\n",
              "</style>\n",
              "<table border=\"1\" class=\"dataframe\">\n",
              "  <thead>\n",
              "    <tr style=\"text-align: right;\">\n",
              "      <th></th>\n",
              "      <th>rotten_tomatoes_link</th>\n",
              "      <th>movie_title</th>\n",
              "      <th>movie_info</th>\n",
              "      <th>critics_consensus</th>\n",
              "      <th>content_rating</th>\n",
              "      <th>genres</th>\n",
              "      <th>directors</th>\n",
              "      <th>authors</th>\n",
              "      <th>actors</th>\n",
              "      <th>original_release_date</th>\n",
              "      <th>...</th>\n",
              "      <th>production_company</th>\n",
              "      <th>tomatometer_status</th>\n",
              "      <th>tomatometer_rating</th>\n",
              "      <th>tomatometer_count</th>\n",
              "      <th>audience_status</th>\n",
              "      <th>audience_rating</th>\n",
              "      <th>audience_count</th>\n",
              "      <th>tomatometer_top_critics_count</th>\n",
              "      <th>tomatometer_fresh_critics_count</th>\n",
              "      <th>tomatometer_rotten_critics_count</th>\n",
              "    </tr>\n",
              "  </thead>\n",
              "  <tbody>\n",
              "    <tr>\n",
              "      <th>0</th>\n",
              "      <td>m/0814255</td>\n",
              "      <td>Percy Jackson &amp; the Olympians: The Lightning T...</td>\n",
              "      <td>Always trouble-prone, the life of teenager Per...</td>\n",
              "      <td>Though it may seem like just another Harry Pot...</td>\n",
              "      <td>PG</td>\n",
              "      <td>Action &amp; Adventure, Comedy, Drama, Science Fic...</td>\n",
              "      <td>Chris Columbus</td>\n",
              "      <td>Craig Titley, Chris Columbus, Rick Riordan</td>\n",
              "      <td>Logan Lerman, Brandon T. Jackson, Alexandra Da...</td>\n",
              "      <td>2010-02-12</td>\n",
              "      <td>...</td>\n",
              "      <td>20th Century Fox</td>\n",
              "      <td>Rotten</td>\n",
              "      <td>49.0</td>\n",
              "      <td>149.0</td>\n",
              "      <td>Spilled</td>\n",
              "      <td>53.0</td>\n",
              "      <td>254421.0</td>\n",
              "      <td>43</td>\n",
              "      <td>73</td>\n",
              "      <td>76</td>\n",
              "    </tr>\n",
              "    <tr>\n",
              "      <th>1</th>\n",
              "      <td>m/0878835</td>\n",
              "      <td>Please Give</td>\n",
              "      <td>Kate (Catherine Keener) and her husband Alex (...</td>\n",
              "      <td>Nicole Holofcener's newest might seem slight i...</td>\n",
              "      <td>R</td>\n",
              "      <td>Comedy</td>\n",
              "      <td>Nicole Holofcener</td>\n",
              "      <td>Nicole Holofcener</td>\n",
              "      <td>Catherine Keener, Amanda Peet, Oliver Platt, R...</td>\n",
              "      <td>2010-04-30</td>\n",
              "      <td>...</td>\n",
              "      <td>Sony Pictures Classics</td>\n",
              "      <td>Certified-Fresh</td>\n",
              "      <td>87.0</td>\n",
              "      <td>142.0</td>\n",
              "      <td>Upright</td>\n",
              "      <td>64.0</td>\n",
              "      <td>11574.0</td>\n",
              "      <td>44</td>\n",
              "      <td>123</td>\n",
              "      <td>19</td>\n",
              "    </tr>\n",
              "  </tbody>\n",
              "</table>\n",
              "<p>2 rows × 22 columns</p>\n",
              "</div>\n",
              "      <button class=\"colab-df-convert\" onclick=\"convertToInteractive('df-b9f0fc81-a261-4d55-8f04-4fe945445fcb')\"\n",
              "              title=\"Convert this dataframe to an interactive table.\"\n",
              "              style=\"display:none;\">\n",
              "        \n",
              "  <svg xmlns=\"http://www.w3.org/2000/svg\" height=\"24px\"viewBox=\"0 0 24 24\"\n",
              "       width=\"24px\">\n",
              "    <path d=\"M0 0h24v24H0V0z\" fill=\"none\"/>\n",
              "    <path d=\"M18.56 5.44l.94 2.06.94-2.06 2.06-.94-2.06-.94-.94-2.06-.94 2.06-2.06.94zm-11 1L8.5 8.5l.94-2.06 2.06-.94-2.06-.94L8.5 2.5l-.94 2.06-2.06.94zm10 10l.94 2.06.94-2.06 2.06-.94-2.06-.94-.94-2.06-.94 2.06-2.06.94z\"/><path d=\"M17.41 7.96l-1.37-1.37c-.4-.4-.92-.59-1.43-.59-.52 0-1.04.2-1.43.59L10.3 9.45l-7.72 7.72c-.78.78-.78 2.05 0 2.83L4 21.41c.39.39.9.59 1.41.59.51 0 1.02-.2 1.41-.59l7.78-7.78 2.81-2.81c.8-.78.8-2.07 0-2.86zM5.41 20L4 18.59l7.72-7.72 1.47 1.35L5.41 20z\"/>\n",
              "  </svg>\n",
              "      </button>\n",
              "      \n",
              "  <style>\n",
              "    .colab-df-container {\n",
              "      display:flex;\n",
              "      flex-wrap:wrap;\n",
              "      gap: 12px;\n",
              "    }\n",
              "\n",
              "    .colab-df-convert {\n",
              "      background-color: #E8F0FE;\n",
              "      border: none;\n",
              "      border-radius: 50%;\n",
              "      cursor: pointer;\n",
              "      display: none;\n",
              "      fill: #1967D2;\n",
              "      height: 32px;\n",
              "      padding: 0 0 0 0;\n",
              "      width: 32px;\n",
              "    }\n",
              "\n",
              "    .colab-df-convert:hover {\n",
              "      background-color: #E2EBFA;\n",
              "      box-shadow: 0px 1px 2px rgba(60, 64, 67, 0.3), 0px 1px 3px 1px rgba(60, 64, 67, 0.15);\n",
              "      fill: #174EA6;\n",
              "    }\n",
              "\n",
              "    [theme=dark] .colab-df-convert {\n",
              "      background-color: #3B4455;\n",
              "      fill: #D2E3FC;\n",
              "    }\n",
              "\n",
              "    [theme=dark] .colab-df-convert:hover {\n",
              "      background-color: #434B5C;\n",
              "      box-shadow: 0px 1px 3px 1px rgba(0, 0, 0, 0.15);\n",
              "      filter: drop-shadow(0px 1px 2px rgba(0, 0, 0, 0.3));\n",
              "      fill: #FFFFFF;\n",
              "    }\n",
              "  </style>\n",
              "\n",
              "      <script>\n",
              "        const buttonEl =\n",
              "          document.querySelector('#df-b9f0fc81-a261-4d55-8f04-4fe945445fcb button.colab-df-convert');\n",
              "        buttonEl.style.display =\n",
              "          google.colab.kernel.accessAllowed ? 'block' : 'none';\n",
              "\n",
              "        async function convertToInteractive(key) {\n",
              "          const element = document.querySelector('#df-b9f0fc81-a261-4d55-8f04-4fe945445fcb');\n",
              "          const dataTable =\n",
              "            await google.colab.kernel.invokeFunction('convertToInteractive',\n",
              "                                                     [key], {});\n",
              "          if (!dataTable) return;\n",
              "\n",
              "          const docLinkHtml = 'Like what you see? Visit the ' +\n",
              "            '<a target=\"_blank\" href=https://colab.research.google.com/notebooks/data_table.ipynb>data table notebook</a>'\n",
              "            + ' to learn more about interactive tables.';\n",
              "          element.innerHTML = '';\n",
              "          dataTable['output_type'] = 'display_data';\n",
              "          await google.colab.output.renderOutput(dataTable, element);\n",
              "          const docLink = document.createElement('div');\n",
              "          docLink.innerHTML = docLinkHtml;\n",
              "          element.appendChild(docLink);\n",
              "        }\n",
              "      </script>\n",
              "    </div>\n",
              "  </div>\n",
              "  "
            ]
          },
          "metadata": {},
          "execution_count": 5
        }
      ],
      "source": [
        "rt_movies.head(2)"
      ]
    },
    {
      "cell_type": "code",
      "execution_count": 8,
      "id": "8011e86b",
      "metadata": {
        "colab": {
          "base_uri": "https://localhost:8080/"
        },
        "id": "8011e86b",
        "outputId": "08c9d72d-eeef-43ee-cca9-a4c085b9a24f"
      },
      "outputs": [
        {
          "output_type": "execute_result",
          "data": {
            "text/plain": [
              "(17712, 22)"
            ]
          },
          "metadata": {},
          "execution_count": 8
        }
      ],
      "source": [
        "rt_movies.shape"
      ]
    },
    {
      "cell_type": "code",
      "execution_count": 9,
      "id": "82c31ced-ba05-4a69-aa43-f2dd6dd8b239",
      "metadata": {
        "colab": {
          "base_uri": "https://localhost:8080/"
        },
        "id": "82c31ced-ba05-4a69-aa43-f2dd6dd8b239",
        "outputId": "96097f57-4a5f-43b4-ef00-79181cdbb621"
      },
      "outputs": [
        {
          "output_type": "execute_result",
          "data": {
            "text/plain": [
              "(1130017, 8)"
            ]
          },
          "metadata": {},
          "execution_count": 9
        }
      ],
      "source": [
        "rt_reviews.shape"
      ]
    },
    {
      "cell_type": "code",
      "execution_count": 10,
      "id": "9357c4c5-7ce4-40cd-8d5e-df0a8e8e7206",
      "metadata": {
        "colab": {
          "base_uri": "https://localhost:8080/"
        },
        "id": "9357c4c5-7ce4-40cd-8d5e-df0a8e8e7206",
        "outputId": "0e19f7d9-ccd3-40c7-a7f5-f4cac50d2e6b"
      },
      "outputs": [
        {
          "output_type": "execute_result",
          "data": {
            "text/plain": [
              "17712"
            ]
          },
          "metadata": {},
          "execution_count": 10
        }
      ],
      "source": [
        "rt_movies.rotten_tomatoes_link.nunique()"
      ]
    },
    {
      "cell_type": "code",
      "execution_count": 11,
      "id": "b3a3171d-87e1-41c8-a3f4-2c1e21041fa7",
      "metadata": {
        "colab": {
          "base_uri": "https://localhost:8080/"
        },
        "id": "b3a3171d-87e1-41c8-a3f4-2c1e21041fa7",
        "outputId": "a51991e3-8715-4609-c1e9-2273861678a6"
      },
      "outputs": [
        {
          "output_type": "execute_result",
          "data": {
            "text/plain": [
              "17712"
            ]
          },
          "metadata": {},
          "execution_count": 11
        }
      ],
      "source": [
        "rt_reviews.rotten_tomatoes_link.nunique()"
      ]
    },
    {
      "cell_type": "code",
      "execution_count": 12,
      "id": "40fe0791-a5cd-45e1-8762-ee0c986e4616",
      "metadata": {
        "colab": {
          "base_uri": "https://localhost:8080/"
        },
        "id": "40fe0791-a5cd-45e1-8762-ee0c986e4616",
        "outputId": "74409b98-7f6b-4de1-d20b-09b29b2c33aa"
      },
      "outputs": [
        {
          "output_type": "execute_result",
          "data": {
            "text/plain": [
              "rotten_tomatoes_link\n",
              "m/star_wars_the_rise_of_skywalker            992\n",
              "m/solo_a_star_wars_story                     948\n",
              "m/star_wars_the_last_jedi                    946\n",
              "m/rogue_one_a_star_wars_story                892\n",
              "m/spider_man_far_from_home                   880\n",
              "m/star_wars_episode_vii_the_force_awakens    874\n",
              "m/ready_player_one                           866\n",
              "m/shazam                                     806\n",
              "m/spider_man_homecoming                      780\n",
              "m/roma_2018                                  774\n",
              "Name: review_content, dtype: int64"
            ]
          },
          "metadata": {},
          "execution_count": 12
        }
      ],
      "source": [
        "rt_reviews.groupby([\"rotten_tomatoes_link\"])[\"review_content\"].count().sort_values(ascending=False).head(10)"
      ]
    },
    {
      "cell_type": "code",
      "execution_count": 13,
      "id": "e0ea5b22",
      "metadata": {
        "colab": {
          "base_uri": "https://localhost:8080/"
        },
        "id": "e0ea5b22",
        "outputId": "d94769e9-2a1a-4e12-8b34-93519be282ca"
      },
      "outputs": [
        {
          "output_type": "execute_result",
          "data": {
            "text/plain": [
              "rotten_tomatoes_link                   0\n",
              "movie_title                            0\n",
              "movie_info                           321\n",
              "critics_consensus                   8578\n",
              "content_rating                         0\n",
              "genres                                19\n",
              "directors                            194\n",
              "authors                             1542\n",
              "actors                               352\n",
              "original_release_date               1166\n",
              "streaming_release_date               384\n",
              "runtime                              314\n",
              "production_company                   499\n",
              "tomatometer_status                    44\n",
              "tomatometer_rating                    44\n",
              "tomatometer_count                     44\n",
              "audience_status                      448\n",
              "audience_rating                      296\n",
              "audience_count                       297\n",
              "tomatometer_top_critics_count          0\n",
              "tomatometer_fresh_critics_count        0\n",
              "tomatometer_rotten_critics_count       0\n",
              "dtype: int64"
            ]
          },
          "metadata": {},
          "execution_count": 13
        }
      ],
      "source": [
        "rt_movies.isnull().sum()"
      ]
    },
    {
      "cell_type": "code",
      "execution_count": 15,
      "id": "ad90bc1a",
      "metadata": {
        "colab": {
          "base_uri": "https://localhost:8080/"
        },
        "id": "ad90bc1a",
        "outputId": "b238bb4b-db5e-412c-8581-1c3dc9ceb78a"
      },
      "outputs": [
        {
          "output_type": "execute_result",
          "data": {
            "text/plain": [
              "R        6377\n",
              "NR       5474\n",
              "PG-13    2979\n",
              "PG       2168\n",
              "G         676\n",
              "NC17       38\n",
              "Name: content_rating, dtype: int64"
            ]
          },
          "metadata": {},
          "execution_count": 15
        }
      ],
      "source": [
        "rt_movies.content_rating.value_counts()"
      ]
    },
    {
      "cell_type": "code",
      "execution_count": 16,
      "id": "4bd1d4ea-b6d8-4947-bdf9-ce857f10bb15",
      "metadata": {
        "colab": {
          "base_uri": "https://localhost:8080/"
        },
        "id": "4bd1d4ea-b6d8-4947-bdf9-ce857f10bb15",
        "outputId": "f0dc8c1a-197a-40bc-84b4-b98fd94d1a98"
      },
      "outputs": [
        {
          "output_type": "execute_result",
          "data": {
            "text/plain": [
              "Rotten             7565\n",
              "Fresh              6844\n",
              "Certified-Fresh    3259\n",
              "Name: tomatometer_status, dtype: int64"
            ]
          },
          "metadata": {},
          "execution_count": 16
        }
      ],
      "source": [
        "rt_movies.tomatometer_status.value_counts()"
      ]
    },
    {
      "cell_type": "code",
      "source": [
        "rt_movies.tomatometer_status.value_counts().plot(kind='pie', autopct='%1.1f%%')"
      ],
      "metadata": {
        "id": "wDtYZb_cGdy5",
        "outputId": "0c50760b-7705-47cf-e867-b5cacfb6ddde",
        "colab": {
          "base_uri": "https://localhost:8080/",
          "height": 265
        }
      },
      "id": "wDtYZb_cGdy5",
      "execution_count": 51,
      "outputs": [
        {
          "output_type": "execute_result",
          "data": {
            "text/plain": [
              "<matplotlib.axes._subplots.AxesSubplot at 0x7f9f1e2c6410>"
            ]
          },
          "metadata": {},
          "execution_count": 51
        },
        {
          "output_type": "display_data",
          "data": {
            "text/plain": [
              "<Figure size 432x288 with 1 Axes>"
            ],
            "image/png": "[encoded data removed]"
          },
          "metadata": {}
        }
      ]
    },
    {
      "cell_type": "code",
      "execution_count": 18,
      "id": "ab7c2063",
      "metadata": {
        "colab": {
          "base_uri": "https://localhost:8080/"
        },
        "id": "ab7c2063",
        "outputId": "48c5097f-67e5-4d19-8985-ed45fcc808ad"
      },
      "outputs": [
        {
          "output_type": "execute_result",
          "data": {
            "text/plain": [
              "Drama                                                                                  1887\n",
              "Comedy                                                                                 1263\n",
              "Comedy, Drama                                                                           863\n",
              "Drama, Mystery & Suspense                                                               731\n",
              "Art House & International, Drama                                                        589\n",
              "                                                                                       ... \n",
              "Art House & International, Classics, Cult Movies, Horror, Science Fiction & Fantasy       1\n",
              "Action & Adventure, Cult Movies, Drama, Science Fiction & Fantasy                         1\n",
              "Art House & International, Documentary, Sports & Fitness                                  1\n",
              "Action & Adventure, Drama, Mystery & Suspense, Special Interest                           1\n",
              "Action & Adventure, Drama, Horror, Kids & Family, Mystery & Suspense                      1\n",
              "Name: genres, Length: 1106, dtype: int64"
            ]
          },
          "metadata": {},
          "execution_count": 18
        }
      ],
      "source": [
        "rt_movies.genres.value_counts()"
      ]
    },
    {
      "cell_type": "code",
      "execution_count": 20,
      "id": "699b1d6a",
      "metadata": {
        "id": "699b1d6a"
      },
      "outputs": [],
      "source": [
        "rt_movies['split_genres'] = rt_movies.genres.str.split(',').str[0]"
      ]
    },
    {
      "cell_type": "code",
      "execution_count": 21,
      "id": "66948ac8-aed0-417f-9f34-202866f7eec7",
      "metadata": {
        "colab": {
          "base_uri": "https://localhost:8080/"
        },
        "id": "66948ac8-aed0-417f-9f34-202866f7eec7",
        "outputId": "9bf8e2de-7505-4d89-f425-24dd2dac972b"
      },
      "outputs": [
        {
          "output_type": "execute_result",
          "data": {
            "text/plain": [
              "Drama                        3789\n",
              "Comedy                       3725\n",
              "Action & Adventure           3551\n",
              "Art House & International    2021\n",
              "Documentary                  1725\n",
              "Classics                     1110\n",
              "Horror                        943\n",
              "Animation                     379\n",
              "Mystery & Suspense            289\n",
              "Kids & Family                  46\n",
              "Science Fiction & Fantasy      40\n",
              "Musical & Performing Arts      26\n",
              "Cult Movies                    22\n",
              "Romance                        14\n",
              "Western                         9\n",
              "Special Interest                3\n",
              "Television                      1\n",
              "Name: split_genres, dtype: int64"
            ]
          },
          "metadata": {},
          "execution_count": 21
        }
      ],
      "source": [
        "rt_movies.split_genres.value_counts()"
      ]
    },
    {
      "cell_type": "code",
      "execution_count": 22,
      "id": "e086c95b",
      "metadata": {
        "colab": {
          "base_uri": "https://localhost:8080/",
          "height": 605
        },
        "id": "e086c95b",
        "outputId": "be566543-f88f-4a8e-facc-c13bf7f63153"
      },
      "outputs": [
        {
          "output_type": "execute_result",
          "data": {
            "text/plain": [
              "<matplotlib.axes._subplots.AxesSubplot at 0x7f9f1e06b4d0>"
            ]
          },
          "metadata": {},
          "execution_count": 22
        },
        {
          "output_type": "display_data",
          "data": {
            "text/plain": [
              "<Figure size 1080x576 with 1 Axes>"
            ],
            "image/png": "[encoded data removed]"
          },
          "metadata": {
            "needs_background": "light"
          }
        }
      ],
      "source": [
        "rt_movies.split_genres.value_counts().plot(kind='bar', figsize=(15,8), title='Distribuição de gêneros dos filmes', colormap='Pastel1', rot=45)"
      ]
    },
    {
      "cell_type": "code",
      "execution_count": 23,
      "id": "844d9b39-5802-4d1a-ba6b-696ddb75fde8",
      "metadata": {
        "id": "844d9b39-5802-4d1a-ba6b-696ddb75fde8"
      },
      "outputs": [],
      "source": [
        "merged = rt_movies.merge(rt_reviews, on=\"rotten_tomatoes_link\", how=\"inner\")"
      ]
    },
    {
      "cell_type": "code",
      "execution_count": 24,
      "id": "03914fc9-b811-44f7-8f34-4d5e500497e9",
      "metadata": {
        "colab": {
          "base_uri": "https://localhost:8080/",
          "height": 650
        },
        "id": "03914fc9-b811-44f7-8f34-4d5e500497e9",
        "outputId": "cfe4fd1b-d69a-4c79-9a4e-17aa7f8cef96"
      },
      "outputs": [
        {
          "output_type": "execute_result",
          "data": {
            "text/plain": [
              "<matplotlib.axes._subplots.AxesSubplot at 0x7f9f1e1489d0>"
            ]
          },
          "metadata": {},
          "execution_count": 24
        },
        {
          "output_type": "display_data",
          "data": {
            "text/plain": [
              "<Figure size 936x576 with 1 Axes>"
            ],
            "image/png": "[encoded data removed]"
          },
          "metadata": {
            "needs_background": "light"
          }
        }
      ],
      "source": [
        "pd.crosstab(merged['split_genres'],merged['review_type']).sort_values(by= \"Fresh\", ascending=False).plot.bar(figsize=(13,8), title='Distribuição de gêneros dos filmes', stacked=True,  rot=90)"
      ]
    },
    {
      "cell_type": "code",
      "execution_count": 25,
      "id": "c8a3b45d",
      "metadata": {
        "colab": {
          "base_uri": "https://localhost:8080/"
        },
        "id": "c8a3b45d",
        "outputId": "db16a85e-d8b4-46a2-8bc3-b9741d3f1f41"
      },
      "outputs": [
        {
          "output_type": "execute_result",
          "data": {
            "text/plain": [
              "100.0    964\n",
              "50.0     438\n",
              "88.0     408\n",
              "67.0     396\n",
              "83.0     396\n",
              "        ... \n",
              "4.0       46\n",
              "5.0       41\n",
              "3.0       21\n",
              "2.0       11\n",
              "1.0        6\n",
              "Name: tomatometer_rating, Length: 101, dtype: int64"
            ]
          },
          "metadata": {},
          "execution_count": 25
        }
      ],
      "source": [
        "rt_movies.tomatometer_rating.value_counts()"
      ]
    },
    {
      "cell_type": "code",
      "execution_count": 26,
      "id": "2927fb03",
      "metadata": {
        "colab": {
          "base_uri": "https://localhost:8080/",
          "height": 283
        },
        "id": "2927fb03",
        "outputId": "ca3921f7-ab44-4fef-cf49-142b28ea68ec"
      },
      "outputs": [
        {
          "output_type": "execute_result",
          "data": {
            "text/plain": [
              "<matplotlib.axes._subplots.AxesSubplot at 0x7f9f1e1ae990>"
            ]
          },
          "metadata": {},
          "execution_count": 26
        },
        {
          "output_type": "display_data",
          "data": {
            "text/plain": [
              "<Figure size 432x288 with 1 Axes>"
            ],
            "image/png": "[encoded data removed]"
          },
          "metadata": {
            "needs_background": "light"
          }
        }
      ],
      "source": [
        "rt_movies.tomatometer_rating.plot(kind='box')"
      ]
    },
    {
      "cell_type": "code",
      "execution_count": 27,
      "id": "87422dc4",
      "metadata": {
        "colab": {
          "base_uri": "https://localhost:8080/",
          "height": 261
        },
        "id": "87422dc4",
        "outputId": "1a2464fd-96a8-44bc-b688-8300cdf2209e"
      },
      "outputs": [
        {
          "output_type": "execute_result",
          "data": {
            "text/plain": [
              "      rotten_tomatoes_link movie_title  \\\n",
              "10619        m/mother_2017     mother!   \n",
              "\n",
              "                                              movie_info  \\\n",
              "10619  A young woman spends her days renovating the V...   \n",
              "\n",
              "                                       critics_consensus content_rating  \\\n",
              "10619  There's no denying that mother! is the thought...              R   \n",
              "\n",
              "                                  genres         directors           authors  \\\n",
              "10619  Drama, Horror, Mystery & Suspense  Darren Aronofsky  Darren Aronofsky   \n",
              "\n",
              "                                                  actors  \\\n",
              "10619  Jennifer Lawrence, Javier Bardem, Ed Harris, M...   \n",
              "\n",
              "      original_release_date  ... tomatometer_status  tomatometer_rating  \\\n",
              "10619            2017-09-15  ...              Fresh                68.0   \n",
              "\n",
              "      tomatometer_count audience_status  audience_rating  audience_count  \\\n",
              "10619             374.0         Spilled             51.0         24931.0   \n",
              "\n",
              "      tomatometer_top_critics_count  tomatometer_fresh_critics_count  \\\n",
              "10619                            51                              256   \n",
              "\n",
              "       tomatometer_rotten_critics_count  split_genres  \n",
              "10619                               118         Drama  \n",
              "\n",
              "[1 rows x 23 columns]"
            ],
            "text/html": [
              "\n",
              "  <div id=\"df-5d94b970-440b-47b1-9607-c8170792ae24\">\n",
              "    <div class=\"colab-df-container\">\n",
              "      <div>\n",
              "<style scoped>\n",
              "    .dataframe tbody tr th:only-of-type {\n",
              "        vertical-align: middle;\n",
              "    }\n",
              "\n",
              "    .dataframe tbody tr th {\n",
              "        vertical-align: top;\n",
              "    }\n",
              "\n",
              "    .dataframe thead th {\n",
              "        text-align: right;\n",
              "    }\n",
              "</style>\n",
              "<table border=\"1\" class=\"dataframe\">\n",
              "  <thead>\n",
              "    <tr style=\"text-align: right;\">\n",
              "      <th></th>\n",
              "      <th>rotten_tomatoes_link</th>\n",
              "      <th>movie_title</th>\n",
              "      <th>movie_info</th>\n",
              "      <th>critics_consensus</th>\n",
              "      <th>content_rating</th>\n",
              "      <th>genres</th>\n",
              "      <th>directors</th>\n",
              "      <th>authors</th>\n",
              "      <th>actors</th>\n",
              "      <th>original_release_date</th>\n",
              "      <th>...</th>\n",
              "      <th>tomatometer_status</th>\n",
              "      <th>tomatometer_rating</th>\n",
              "      <th>tomatometer_count</th>\n",
              "      <th>audience_status</th>\n",
              "      <th>audience_rating</th>\n",
              "      <th>audience_count</th>\n",
              "      <th>tomatometer_top_critics_count</th>\n",
              "      <th>tomatometer_fresh_critics_count</th>\n",
              "      <th>tomatometer_rotten_critics_count</th>\n",
              "      <th>split_genres</th>\n",
              "    </tr>\n",
              "  </thead>\n",
              "  <tbody>\n",
              "    <tr>\n",
              "      <th>10619</th>\n",
              "      <td>m/mother_2017</td>\n",
              "      <td>mother!</td>\n",
              "      <td>A young woman spends her days renovating the V...</td>\n",
              "      <td>There's no denying that mother! is the thought...</td>\n",
              "      <td>R</td>\n",
              "      <td>Drama, Horror, Mystery &amp; Suspense</td>\n",
              "      <td>Darren Aronofsky</td>\n",
              "      <td>Darren Aronofsky</td>\n",
              "      <td>Jennifer Lawrence, Javier Bardem, Ed Harris, M...</td>\n",
              "      <td>2017-09-15</td>\n",
              "      <td>...</td>\n",
              "      <td>Fresh</td>\n",
              "      <td>68.0</td>\n",
              "      <td>374.0</td>\n",
              "      <td>Spilled</td>\n",
              "      <td>51.0</td>\n",
              "      <td>24931.0</td>\n",
              "      <td>51</td>\n",
              "      <td>256</td>\n",
              "      <td>118</td>\n",
              "      <td>Drama</td>\n",
              "    </tr>\n",
              "  </tbody>\n",
              "</table>\n",
              "<p>1 rows × 23 columns</p>\n",
              "</div>\n",
              "      <button class=\"colab-df-convert\" onclick=\"convertToInteractive('df-5d94b970-440b-47b1-9607-c8170792ae24')\"\n",
              "              title=\"Convert this dataframe to an interactive table.\"\n",
              "              style=\"display:none;\">\n",
              "        \n",
              "  <svg xmlns=\"http://www.w3.org/2000/svg\" height=\"24px\"viewBox=\"0 0 24 24\"\n",
              "       width=\"24px\">\n",
              "    <path d=\"M0 0h24v24H0V0z\" fill=\"none\"/>\n",
              "    <path d=\"M18.56 5.44l.94 2.06.94-2.06 2.06-.94-2.06-.94-.94-2.06-.94 2.06-2.06.94zm-11 1L8.5 8.5l.94-2.06 2.06-.94-2.06-.94L8.5 2.5l-.94 2.06-2.06.94zm10 10l.94 2.06.94-2.06 2.06-.94-2.06-.94-.94-2.06-.94 2.06-2.06.94z\"/><path d=\"M17.41 7.96l-1.37-1.37c-.4-.4-.92-.59-1.43-.59-.52 0-1.04.2-1.43.59L10.3 9.45l-7.72 7.72c-.78.78-.78 2.05 0 2.83L4 21.41c.39.39.9.59 1.41.59.51 0 1.02-.2 1.41-.59l7.78-7.78 2.81-2.81c.8-.78.8-2.07 0-2.86zM5.41 20L4 18.59l7.72-7.72 1.47 1.35L5.41 20z\"/>\n",
              "  </svg>\n",
              "      </button>\n",
              "      \n",
              "  <style>\n",
              "    .colab-df-container {\n",
              "      display:flex;\n",
              "      flex-wrap:wrap;\n",
              "      gap: 12px;\n",
              "    }\n",
              "\n",
              "    .colab-df-convert {\n",
              "      background-color: #E8F0FE;\n",
              "      border: none;\n",
              "      border-radius: 50%;\n",
              "      cursor: pointer;\n",
              "      display: none;\n",
              "      fill: #1967D2;\n",
              "      height: 32px;\n",
              "      padding: 0 0 0 0;\n",
              "      width: 32px;\n",
              "    }\n",
              "\n",
              "    .colab-df-convert:hover {\n",
              "      background-color: #E2EBFA;\n",
              "      box-shadow: 0px 1px 2px rgba(60, 64, 67, 0.3), 0px 1px 3px 1px rgba(60, 64, 67, 0.15);\n",
              "      fill: #174EA6;\n",
              "    }\n",
              "\n",
              "    [theme=dark] .colab-df-convert {\n",
              "      background-color: #3B4455;\n",
              "      fill: #D2E3FC;\n",
              "    }\n",
              "\n",
              "    [theme=dark] .colab-df-convert:hover {\n",
              "      background-color: #434B5C;\n",
              "      box-shadow: 0px 1px 3px 1px rgba(0, 0, 0, 0.15);\n",
              "      filter: drop-shadow(0px 1px 2px rgba(0, 0, 0, 0.3));\n",
              "      fill: #FFFFFF;\n",
              "    }\n",
              "  </style>\n",
              "\n",
              "      <script>\n",
              "        const buttonEl =\n",
              "          document.querySelector('#df-5d94b970-440b-47b1-9607-c8170792ae24 button.colab-df-convert');\n",
              "        buttonEl.style.display =\n",
              "          google.colab.kernel.accessAllowed ? 'block' : 'none';\n",
              "\n",
              "        async function convertToInteractive(key) {\n",
              "          const element = document.querySelector('#df-5d94b970-440b-47b1-9607-c8170792ae24');\n",
              "          const dataTable =\n",
              "            await google.colab.kernel.invokeFunction('convertToInteractive',\n",
              "                                                     [key], {});\n",
              "          if (!dataTable) return;\n",
              "\n",
              "          const docLinkHtml = 'Like what you see? Visit the ' +\n",
              "            '<a target=\"_blank\" href=https://colab.research.google.com/notebooks/data_table.ipynb>data table notebook</a>'\n",
              "            + ' to learn more about interactive tables.';\n",
              "          element.innerHTML = '';\n",
              "          dataTable['output_type'] = 'display_data';\n",
              "          await google.colab.output.renderOutput(dataTable, element);\n",
              "          const docLink = document.createElement('div');\n",
              "          docLink.innerHTML = docLinkHtml;\n",
              "          element.appendChild(docLink);\n",
              "        }\n",
              "      </script>\n",
              "    </div>\n",
              "  </div>\n",
              "  "
            ]
          },
          "metadata": {},
          "execution_count": 27
        }
      ],
      "source": [
        "rt_movies.loc[rt_movies.movie_title == 'mother!']"
      ]
    },
    {
      "cell_type": "code",
      "execution_count": 28,
      "id": "144e4d38",
      "metadata": {
        "id": "144e4d38"
      },
      "outputs": [],
      "source": [
        "rt_movies.original_release_date.fillna('2222-02-02', inplace=True)"
      ]
    },
    {
      "cell_type": "code",
      "execution_count": 29,
      "id": "2caeacf6",
      "metadata": {
        "id": "2caeacf6"
      },
      "outputs": [],
      "source": [
        "rt_movies['original_release_date'] = pd.to_datetime(rt_movies['original_release_date'])"
      ]
    },
    {
      "cell_type": "code",
      "execution_count": 30,
      "id": "9ca754a1",
      "metadata": {
        "colab": {
          "base_uri": "https://localhost:8080/"
        },
        "id": "9ca754a1",
        "outputId": "d4628ba3-dbd2-4dfa-87ae-b15df588ba20"
      },
      "outputs": [
        {
          "output_type": "execute_result",
          "data": {
            "text/plain": [
              "Timestamp('2020-09-30 00:00:00')"
            ]
          },
          "metadata": {},
          "execution_count": 30
        }
      ],
      "source": [
        "max(rt_movies.original_release_date.loc[rt_movies.original_release_date != '2222-02-02'])"
      ]
    },
    {
      "cell_type": "code",
      "execution_count": 31,
      "id": "82dbba0a",
      "metadata": {
        "scrolled": true,
        "colab": {
          "base_uri": "https://localhost:8080/"
        },
        "id": "82dbba0a",
        "outputId": "3f4c1a85-81bf-4039-fae7-659a3296b694"
      },
      "outputs": [
        {
          "output_type": "execute_result",
          "data": {
            "text/plain": [
              "Timestamp('1914-06-01 00:00:00')"
            ]
          },
          "metadata": {},
          "execution_count": 31
        }
      ],
      "source": [
        "min(rt_movies.original_release_date)"
      ]
    },
    {
      "cell_type": "code",
      "execution_count": 32,
      "id": "b3af72b0",
      "metadata": {
        "id": "b3af72b0"
      },
      "outputs": [],
      "source": [
        "rt_movies['movie_year'] = rt_movies.loc[rt_movies.original_release_date != '2222-02-02', 'original_release_date'].apply(lambda x: x.year)"
      ]
    },
    {
      "cell_type": "code",
      "execution_count": 33,
      "id": "d3f106f1",
      "metadata": {
        "colab": {
          "base_uri": "https://localhost:8080/",
          "height": 592
        },
        "id": "d3f106f1",
        "outputId": "d528e2b4-0892-4b15-df1a-1f1cc6722868"
      },
      "outputs": [
        {
          "output_type": "stream",
          "name": "stderr",
          "text": [
            "/usr/local/lib/python3.7/dist-packages/seaborn/distributions.py:2619: FutureWarning: `distplot` is a deprecated function and will be removed in a future version. Please adapt your code to use either `displot` (a figure-level function with similar flexibility) or `histplot` (an axes-level function for histograms).\n",
            "  warnings.warn(msg, FutureWarning)\n"
          ]
        },
        {
          "output_type": "display_data",
          "data": {
            "text/plain": [
              "<Figure size 936x576 with 1 Axes>"
            ],
            "image/png": "[encoded data removed]"
          },
          "metadata": {
            "needs_background": "light"
          }
        }
      ],
      "source": [
        "plt.figure(figsize=(13,8))\n",
        "plt.title('Filmes por ano', size=20)\n",
        "sns.distplot(rt_movies.movie_year, kde=False)\n",
        "plt.ylabel('Número de filmes', size=15)\n",
        "plt.xlabel('Ano do lançamento',size=15)\n",
        "plt.axis([1920, 2020, 0, 1750])\n",
        "plt.xticks(np.arange(1920, 2021, step=5),rotation=45, ha='right')\n",
        "plt.show()"
      ]
    },
    {
      "cell_type": "markdown",
      "id": "f1b0ca7c",
      "metadata": {
        "id": "f1b0ca7c"
      },
      "source": [
        "## Reviews dataset"
      ]
    },
    {
      "cell_type": "code",
      "execution_count": 34,
      "id": "e56e129e",
      "metadata": {
        "scrolled": true,
        "colab": {
          "base_uri": "https://localhost:8080/",
          "height": 206
        },
        "id": "e56e129e",
        "outputId": "5a6e261c-1e19-41e9-a2cd-dc3cb33ff967"
      },
      "outputs": [
        {
          "output_type": "execute_result",
          "data": {
            "text/plain": [
              "  rotten_tomatoes_link      critic_name  top_critic           publisher_name  \\\n",
              "0            m/0814255  Andrew L. Urban       False           Urban Cinefile   \n",
              "1            m/0814255    Louise Keller       False           Urban Cinefile   \n",
              "2            m/0814255              NaN       False      FILMINK (Australia)   \n",
              "3            m/0814255     Ben McEachen       False  Sunday Mail (Australia)   \n",
              "4            m/0814255      Ethan Alter        True       Hollywood Reporter   \n",
              "\n",
              "  review_type review_score review_date  \\\n",
              "0       Fresh          NaN  2010-02-06   \n",
              "1       Fresh          NaN  2010-02-06   \n",
              "2       Fresh          NaN  2010-02-09   \n",
              "3       Fresh        3.5/5  2010-02-09   \n",
              "4      Rotten          NaN  2010-02-10   \n",
              "\n",
              "                                      review_content  \n",
              "0  A fantasy adventure that fuses Greek mythology...  \n",
              "1  Uma Thurman as Medusa, the gorgon with a coiff...  \n",
              "2  With a top-notch cast and dazzling special eff...  \n",
              "3  Whether audiences will get behind The Lightnin...  \n",
              "4  What's really lacking in The Lightning Thief i...  "
            ],
            "text/html": [
              "\n",
              "  <div id=\"df-8aca1048-8b53-49c7-93fb-8c816a5d2624\">\n",
              "    <div class=\"colab-df-container\">\n",
              "      <div>\n",
              "<style scoped>\n",
              "    .dataframe tbody tr th:only-of-type {\n",
              "        vertical-align: middle;\n",
              "    }\n",
              "\n",
              "    .dataframe tbody tr th {\n",
              "        vertical-align: top;\n",
              "    }\n",
              "\n",
              "    .dataframe thead th {\n",
              "        text-align: right;\n",
              "    }\n",
              "</style>\n",
              "<table border=\"1\" class=\"dataframe\">\n",
              "  <thead>\n",
              "    <tr style=\"text-align: right;\">\n",
              "      <th></th>\n",
              "      <th>rotten_tomatoes_link</th>\n",
              "      <th>critic_name</th>\n",
              "      <th>top_critic</th>\n",
              "      <th>publisher_name</th>\n",
              "      <th>review_type</th>\n",
              "      <th>review_score</th>\n",
              "      <th>review_date</th>\n",
              "      <th>review_content</th>\n",
              "    </tr>\n",
              "  </thead>\n",
              "  <tbody>\n",
              "    <tr>\n",
              "      <th>0</th>\n",
              "      <td>m/0814255</td>\n",
              "      <td>Andrew L. Urban</td>\n",
              "      <td>False</td>\n",
              "      <td>Urban Cinefile</td>\n",
              "      <td>Fresh</td>\n",
              "      <td>NaN</td>\n",
              "      <td>2010-02-06</td>\n",
              "      <td>A fantasy adventure that fuses Greek mythology...</td>\n",
              "    </tr>\n",
              "    <tr>\n",
              "      <th>1</th>\n",
              "      <td>m/0814255</td>\n",
              "      <td>Louise Keller</td>\n",
              "      <td>False</td>\n",
              "      <td>Urban Cinefile</td>\n",
              "      <td>Fresh</td>\n",
              "      <td>NaN</td>\n",
              "      <td>2010-02-06</td>\n",
              "      <td>Uma Thurman as Medusa, the gorgon with a coiff...</td>\n",
              "    </tr>\n",
              "    <tr>\n",
              "      <th>2</th>\n",
              "      <td>m/0814255</td>\n",
              "      <td>NaN</td>\n",
              "      <td>False</td>\n",
              "      <td>FILMINK (Australia)</td>\n",
              "      <td>Fresh</td>\n",
              "      <td>NaN</td>\n",
              "      <td>2010-02-09</td>\n",
              "      <td>With a top-notch cast and dazzling special eff...</td>\n",
              "    </tr>\n",
              "    <tr>\n",
              "      <th>3</th>\n",
              "      <td>m/0814255</td>\n",
              "      <td>Ben McEachen</td>\n",
              "      <td>False</td>\n",
              "      <td>Sunday Mail (Australia)</td>\n",
              "      <td>Fresh</td>\n",
              "      <td>3.5/5</td>\n",
              "      <td>2010-02-09</td>\n",
              "      <td>Whether audiences will get behind The Lightnin...</td>\n",
              "    </tr>\n",
              "    <tr>\n",
              "      <th>4</th>\n",
              "      <td>m/0814255</td>\n",
              "      <td>Ethan Alter</td>\n",
              "      <td>True</td>\n",
              "      <td>Hollywood Reporter</td>\n",
              "      <td>Rotten</td>\n",
              "      <td>NaN</td>\n",
              "      <td>2010-02-10</td>\n",
              "      <td>What's really lacking in The Lightning Thief i...</td>\n",
              "    </tr>\n",
              "  </tbody>\n",
              "</table>\n",
              "</div>\n",
              "      <button class=\"colab-df-convert\" onclick=\"convertToInteractive('df-8aca1048-8b53-49c7-93fb-8c816a5d2624')\"\n",
              "              title=\"Convert this dataframe to an interactive table.\"\n",
              "              style=\"display:none;\">\n",
              "        \n",
              "  <svg xmlns=\"http://www.w3.org/2000/svg\" height=\"24px\"viewBox=\"0 0 24 24\"\n",
              "       width=\"24px\">\n",
              "    <path d=\"M0 0h24v24H0V0z\" fill=\"none\"/>\n",
              "    <path d=\"M18.56 5.44l.94 2.06.94-2.06 2.06-.94-2.06-.94-.94-2.06-.94 2.06-2.06.94zm-11 1L8.5 8.5l.94-2.06 2.06-.94-2.06-.94L8.5 2.5l-.94 2.06-2.06.94zm10 10l.94 2.06.94-2.06 2.06-.94-2.06-.94-.94-2.06-.94 2.06-2.06.94z\"/><path d=\"M17.41 7.96l-1.37-1.37c-.4-.4-.92-.59-1.43-.59-.52 0-1.04.2-1.43.59L10.3 9.45l-7.72 7.72c-.78.78-.78 2.05 0 2.83L4 21.41c.39.39.9.59 1.41.59.51 0 1.02-.2 1.41-.59l7.78-7.78 2.81-2.81c.8-.78.8-2.07 0-2.86zM5.41 20L4 18.59l7.72-7.72 1.47 1.35L5.41 20z\"/>\n",
              "  </svg>\n",
              "      </button>\n",
              "      \n",
              "  <style>\n",
              "    .colab-df-container {\n",
              "      display:flex;\n",
              "      flex-wrap:wrap;\n",
              "      gap: 12px;\n",
              "    }\n",
              "\n",
              "    .colab-df-convert {\n",
              "      background-color: #E8F0FE;\n",
              "      border: none;\n",
              "      border-radius: 50%;\n",
              "      cursor: pointer;\n",
              "      display: none;\n",
              "      fill: #1967D2;\n",
              "      height: 32px;\n",
              "      padding: 0 0 0 0;\n",
              "      width: 32px;\n",
              "    }\n",
              "\n",
              "    .colab-df-convert:hover {\n",
              "      background-color: #E2EBFA;\n",
              "      box-shadow: 0px 1px 2px rgba(60, 64, 67, 0.3), 0px 1px 3px 1px rgba(60, 64, 67, 0.15);\n",
              "      fill: #174EA6;\n",
              "    }\n",
              "\n",
              "    [theme=dark] .colab-df-convert {\n",
              "      background-color: #3B4455;\n",
              "      fill: #D2E3FC;\n",
              "    }\n",
              "\n",
              "    [theme=dark] .colab-df-convert:hover {\n",
              "      background-color: #434B5C;\n",
              "      box-shadow: 0px 1px 3px 1px rgba(0, 0, 0, 0.15);\n",
              "      filter: drop-shadow(0px 1px 2px rgba(0, 0, 0, 0.3));\n",
              "      fill: #FFFFFF;\n",
              "    }\n",
              "  </style>\n",
              "\n",
              "      <script>\n",
              "        const buttonEl =\n",
              "          document.querySelector('#df-8aca1048-8b53-49c7-93fb-8c816a5d2624 button.colab-df-convert');\n",
              "        buttonEl.style.display =\n",
              "          google.colab.kernel.accessAllowed ? 'block' : 'none';\n",
              "\n",
              "        async function convertToInteractive(key) {\n",
              "          const element = document.querySelector('#df-8aca1048-8b53-49c7-93fb-8c816a5d2624');\n",
              "          const dataTable =\n",
              "            await google.colab.kernel.invokeFunction('convertToInteractive',\n",
              "                                                     [key], {});\n",
              "          if (!dataTable) return;\n",
              "\n",
              "          const docLinkHtml = 'Like what you see? Visit the ' +\n",
              "            '<a target=\"_blank\" href=https://colab.research.google.com/notebooks/data_table.ipynb>data table notebook</a>'\n",
              "            + ' to learn more about interactive tables.';\n",
              "          element.innerHTML = '';\n",
              "          dataTable['output_type'] = 'display_data';\n",
              "          await google.colab.output.renderOutput(dataTable, element);\n",
              "          const docLink = document.createElement('div');\n",
              "          docLink.innerHTML = docLinkHtml;\n",
              "          element.appendChild(docLink);\n",
              "        }\n",
              "      </script>\n",
              "    </div>\n",
              "  </div>\n",
              "  "
            ]
          },
          "metadata": {},
          "execution_count": 34
        }
      ],
      "source": [
        "rt_reviews.head()"
      ]
    },
    {
      "cell_type": "code",
      "execution_count": 35,
      "id": "f1b76d9f",
      "metadata": {
        "scrolled": true,
        "colab": {
          "base_uri": "https://localhost:8080/"
        },
        "id": "f1b76d9f",
        "outputId": "124ae31e-268a-4e3f-8735-35bfd7570359"
      },
      "outputs": [
        {
          "output_type": "execute_result",
          "data": {
            "text/plain": [
              "rotten_tomatoes_link    object\n",
              "critic_name             object\n",
              "top_critic                bool\n",
              "publisher_name          object\n",
              "review_type             object\n",
              "review_score            object\n",
              "review_date             object\n",
              "review_content          object\n",
              "dtype: object"
            ]
          },
          "metadata": {},
          "execution_count": 35
        }
      ],
      "source": [
        "rt_reviews.dtypes"
      ]
    },
    {
      "cell_type": "code",
      "execution_count": 36,
      "id": "d9b965df",
      "metadata": {
        "scrolled": true,
        "colab": {
          "base_uri": "https://localhost:8080/"
        },
        "id": "d9b965df",
        "outputId": "6d6a9766-6158-47b6-f058-0656e8c5b0ff"
      },
      "outputs": [
        {
          "output_type": "execute_result",
          "data": {
            "text/plain": [
              "rotten_tomatoes_link         0\n",
              "critic_name              18529\n",
              "top_critic                   0\n",
              "publisher_name               0\n",
              "review_type                  0\n",
              "review_score            305936\n",
              "review_date                  0\n",
              "review_content           65806\n",
              "dtype: int64"
            ]
          },
          "metadata": {},
          "execution_count": 36
        }
      ],
      "source": [
        "rt_reviews.isnull().sum()"
      ]
    },
    {
      "cell_type": "code",
      "execution_count": 37,
      "id": "685e0a93",
      "metadata": {
        "colab": {
          "base_uri": "https://localhost:8080/"
        },
        "id": "685e0a93",
        "outputId": "c0aed953-fdef-418e-c1ec-5390e9943bde"
      },
      "outputs": [
        {
          "output_type": "execute_result",
          "data": {
            "text/plain": [
              "Fresh     720210\n",
              "Rotten    409807\n",
              "Name: review_type, dtype: int64"
            ]
          },
          "metadata": {},
          "execution_count": 37
        }
      ],
      "source": [
        "rt_reviews.review_type.value_counts()"
      ]
    },
    {
      "cell_type": "code",
      "execution_count": 38,
      "id": "ca7f07f6",
      "metadata": {
        "colab": {
          "base_uri": "https://localhost:8080/",
          "height": 265
        },
        "id": "ca7f07f6",
        "outputId": "727718fb-79aa-4430-ee2a-89ed13cd9ff2"
      },
      "outputs": [
        {
          "output_type": "execute_result",
          "data": {
            "text/plain": [
              "<matplotlib.axes._subplots.AxesSubplot at 0x7f9f1e2b2890>"
            ]
          },
          "metadata": {},
          "execution_count": 38
        },
        {
          "output_type": "display_data",
          "data": {
            "text/plain": [
              "<Figure size 432x288 with 1 Axes>"
            ],
            "image/png": "[encoded data removed]"
          },
          "metadata": {}
        }
      ],
      "source": [
        "rt_reviews.review_type.value_counts().plot(kind='pie', autopct='%1.1f%%')"
      ]
    },
    {
      "cell_type": "code",
      "execution_count": 39,
      "id": "d25639e9",
      "metadata": {
        "colab": {
          "base_uri": "https://localhost:8080/"
        },
        "id": "d25639e9",
        "outputId": "2d392c80-3332-4920-f2b8-286dfae80a96"
      },
      "outputs": [
        {
          "output_type": "execute_result",
          "data": {
            "text/plain": [
              "3/5        90273\n",
              "4/5        83659\n",
              "3/4        72366\n",
              "2/5        60174\n",
              "2/4        47546\n",
              "           ...  \n",
              "69/70          1\n",
              "2.5/20         1\n",
              "5.55/10        1\n",
              "35             1\n",
              "9.56/10        1\n",
              "Name: review_score, Length: 814, dtype: int64"
            ]
          },
          "metadata": {},
          "execution_count": 39
        }
      ],
      "source": [
        "rt_reviews.review_score.value_counts()"
      ]
    },
    {
      "cell_type": "code",
      "execution_count": 40,
      "id": "0494fbc7",
      "metadata": {
        "colab": {
          "base_uri": "https://localhost:8080/"
        },
        "id": "0494fbc7",
        "outputId": "e35cc48e-9fba-4f0b-8026-2bc8662b5fb5"
      },
      "outputs": [
        {
          "output_type": "execute_result",
          "data": {
            "text/plain": [
              "1130017"
            ]
          },
          "metadata": {},
          "execution_count": 40
        }
      ],
      "source": [
        "len(rt_reviews)"
      ]
    },
    {
      "cell_type": "code",
      "execution_count": 45,
      "id": "0c5b8a5a",
      "metadata": {
        "colab": {
          "base_uri": "https://localhost:8080/"
        },
        "id": "0c5b8a5a",
        "outputId": "119d6d2d-e89b-4306-a5eb-00348c13e8a7"
      },
      "outputs": [
        {
          "output_type": "execute_result",
          "data": {
            "text/plain": [
              "65806"
            ]
          },
          "metadata": {},
          "execution_count": 45
        }
      ],
      "source": [
        "rt_reviews.review_content.isnull().sum()"
      ]
    },
    {
      "cell_type": "code",
      "execution_count": 46,
      "id": "abe0e6c0",
      "metadata": {
        "colab": {
          "base_uri": "https://localhost:8080/"
        },
        "id": "abe0e6c0",
        "outputId": "8e9ca40a-f87f-444e-ec16-bb604b358d33"
      },
      "outputs": [
        {
          "output_type": "execute_result",
          "data": {
            "text/plain": [
              "0"
            ]
          },
          "metadata": {},
          "execution_count": 46
        }
      ],
      "source": [
        "rt_reviews.review_date.isnull().sum()"
      ]
    },
    {
      "cell_type": "code",
      "execution_count": 43,
      "id": "9695cdfe",
      "metadata": {
        "id": "9695cdfe"
      },
      "outputs": [],
      "source": [
        "rt_reviews['review_date'] = pd.to_datetime(rt_reviews['review_date'])"
      ]
    },
    {
      "cell_type": "code",
      "execution_count": 44,
      "id": "5eb2c6b9",
      "metadata": {
        "id": "5eb2c6b9"
      },
      "outputs": [],
      "source": [
        "rt_reviews['review_year'] = rt_reviews['review_date'].apply(lambda x: x.year)"
      ]
    },
    {
      "cell_type": "code",
      "execution_count": 48,
      "id": "6ba17ab8",
      "metadata": {
        "colab": {
          "base_uri": "https://localhost:8080/"
        },
        "id": "6ba17ab8",
        "outputId": "a050771c-bcfa-45b3-c8dc-2c10c6a892cb"
      },
      "outputs": [
        {
          "output_type": "execute_result",
          "data": {
            "text/plain": [
              "0"
            ]
          },
          "metadata": {},
          "execution_count": 48
        }
      ],
      "source": [
        "rt_reviews.rotten_tomatoes_link.isnull().sum()"
      ]
    },
    {
      "cell_type": "code",
      "execution_count": 49,
      "id": "ce5f9d40",
      "metadata": {
        "id": "ce5f9d40"
      },
      "outputs": [],
      "source": [
        "rt_reviews = rt_reviews[rt_reviews.review_content.notnull()]"
      ]
    },
    {
      "cell_type": "code",
      "execution_count": 50,
      "id": "85065e8d",
      "metadata": {
        "colab": {
          "base_uri": "https://localhost:8080/"
        },
        "id": "85065e8d",
        "outputId": "8aa6a745-d156-4cf0-ac0c-6d97a2ad8e65"
      },
      "outputs": [
        {
          "output_type": "execute_result",
          "data": {
            "text/plain": [
              "Fresh     681035\n",
              "Rotten    383176\n",
              "Name: review_type, dtype: int64"
            ]
          },
          "metadata": {},
          "execution_count": 50
        }
      ],
      "source": [
        "rt_reviews.review_type.value_counts()"
      ]
    },
    {
      "cell_type": "code",
      "execution_count": null,
      "id": "e5f07808",
      "metadata": {
        "scrolled": true,
        "id": "e5f07808",
        "outputId": "fef11581-1095-4f72-de9e-3662c67fb028"
      },
      "outputs": [
        {
          "data": {
            "text/plain": [
              "2019    81900\n",
              "2018    76295\n",
              "2017    60572\n",
              "2016    57876\n",
              "2015    55280\n",
              "2013    53932\n",
              "2011    51337\n",
              "2014    51006\n",
              "2007    50690\n",
              "2012    50583\n",
              "2008    48861\n",
              "2009    48504\n",
              "2010    47417\n",
              "2006    47345\n",
              "2020    45739\n",
              "2005    43544\n",
              "2004    42902\n",
              "2003    42406\n",
              "2002    42283\n",
              "2000    41078\n",
              "2001    24300\n",
              "1996       28\n",
              "1998       27\n",
              "1994       26\n",
              "1990       24\n",
              "Name: review_year, dtype: int64"
            ]
          },
          "execution_count": 37,
          "metadata": {},
          "output_type": "execute_result"
        }
      ],
      "source": [
        "rt_reviews.review_year.value_counts().head(25)"
      ]
    },
    {
      "cell_type": "code",
      "execution_count": null,
      "id": "ca0a7ae4",
      "metadata": {
        "id": "ca0a7ae4",
        "outputId": "a35f3491-7d8c-4caf-affe-a7eb7e5a714c"
      },
      "outputs": [
        {
          "data": {
            "image/png": "[encoded data removed]",
            "text/plain": [
              "<Figure size 1008x504 with 1 Axes>"
            ]
          },
          "metadata": {},
          "output_type": "display_data"
        }
      ],
      "source": [
        "sns.displot(rt_reviews.loc[rt_reviews.review_year >= 2000, 'review_year'], bins=20, height=7, aspect=2)\n",
        "plt.title('Reviews by year', size=20)\n",
        "plt.ylabel('Number of reviews', size=15)\n",
        "plt.xlabel('Year of review',size=15)\n",
        "plt.axis([2000, 2019, 0, 90000])\n",
        "plt.xticks(np.arange(2000, 2019, step=1),rotation=45, ha='right')\n",
        "plt.show()"
      ]
    },
    {
      "cell_type": "code",
      "execution_count": null,
      "id": "5ab663f8",
      "metadata": {
        "id": "5ab663f8",
        "outputId": "43c71803-b2d1-4d9b-e10a-5009ee5a2db3"
      },
      "outputs": [
        {
          "data": {
            "text/plain": [
              "'Crammed with dragons, set-destroying fights and things exploding, [Columbus] squeezes in a few well-meaning pause breaks about friendship and absent fathers before swiftly moving on to the next pyrotechnics display.'"
            ]
          },
          "execution_count": 39,
          "metadata": {},
          "output_type": "execute_result"
        }
      ],
      "source": [
        "rt_reviews.review_content[9]"
      ]
    },
    {
      "cell_type": "code",
      "execution_count": null,
      "id": "085e37c7-4441-4813-8099-ef667d3bdb91",
      "metadata": {
        "id": "085e37c7-4441-4813-8099-ef667d3bdb91",
        "outputId": "4c508158-1d9d-4b0a-bba8-880c6c2130a2"
      },
      "outputs": [
        {
          "ename": "ModuleNotFoundError",
          "evalue": "No module named 'stylecloud'",
          "output_type": "error",
          "traceback": [
            "\u001b[1;31m---------------------------------------------------------------------------\u001b[0m",
            "\u001b[1;31mModuleNotFoundError\u001b[0m                       Traceback (most recent call last)",
            "Input \u001b[1;32mIn [95]\u001b[0m, in \u001b[0;36m<cell line: 1>\u001b[1;34m()\u001b[0m\n\u001b[1;32m----> 1\u001b[0m \u001b[38;5;28;01mimport\u001b[39;00m \u001b[38;5;21;01mstylecloud\u001b[39;00m \u001b[38;5;28;01mas\u001b[39;00m \u001b[38;5;21;01msc\u001b[39;00m\n",
            "\u001b[1;31mModuleNotFoundError\u001b[0m: No module named 'stylecloud'"
          ]
        }
      ],
      "source": [
        "import stylecloud as sc"
      ]
    },
    {
      "cell_type": "markdown",
      "id": "9e881989",
      "metadata": {
        "id": "9e881989"
      },
      "source": [
        "## Modelling \n"
      ]
    },
    {
      "cell_type": "code",
      "execution_count": null,
      "id": "724ee0a0",
      "metadata": {
        "id": "724ee0a0"
      },
      "outputs": [],
      "source": [
        "df = rt_reviews[['review_content', 'review_type']]"
      ]
    },
    {
      "cell_type": "code",
      "execution_count": null,
      "id": "70f2901a",
      "metadata": {
        "id": "70f2901a"
      },
      "outputs": [],
      "source": [
        "from sklearn.model_selection import train_test_split\n",
        "\n",
        "X = df['review_content']\n",
        "y = df['review_type']\n",
        "\n",
        "X_train, X_test, y_train, y_test = train_test_split(X, y, test_size=0.3, random_state=42)"
      ]
    },
    {
      "cell_type": "code",
      "execution_count": null,
      "id": "402147f0",
      "metadata": {
        "id": "402147f0"
      },
      "outputs": [],
      "source": [
        "from sklearn.pipeline import Pipeline\n",
        "from sklearn.feature_extraction.text import TfidfVectorizer\n",
        "from sklearn.metrics import classification_report, confusion_matrix, accuracy_score"
      ]
    },
    {
      "cell_type": "code",
      "execution_count": null,
      "id": "c0f2424b",
      "metadata": {
        "id": "c0f2424b"
      },
      "outputs": [],
      "source": [
        "# Regressão Logística\n",
        "from sklearn.linear_model import LogisticRegression\n",
        "\n",
        "class_reglog = Pipeline([('tfidf', TfidfVectorizer()),\n",
        "                    ('class',  LogisticRegression(solver='lbfgs', max_iter=400))])\n",
        "\n",
        "class_reglog.fit(X_train, y_train)\n",
        "y_reglog = class_reglog.predict(X_test)"
      ]
    },
    {
      "cell_type": "code",
      "execution_count": null,
      "id": "b84f95bf",
      "metadata": {
        "id": "b84f95bf",
        "outputId": "56bbdb40-ad9e-4643-c357-cc084cd9df73"
      },
      "outputs": [
        {
          "name": "stdout",
          "output_type": "stream",
          "text": [
            "              precision    recall  f1-score   support\n",
            "\n",
            "       Fresh       0.84      0.89      0.86    204324\n",
            "      Rotten       0.78      0.69      0.73    114940\n",
            "\n",
            "    accuracy                           0.82    319264\n",
            "   macro avg       0.81      0.79      0.80    319264\n",
            "weighted avg       0.82      0.82      0.82    319264\n",
            "\n"
          ]
        }
      ],
      "source": [
        "print(classification_report(y_test, y_reglog))"
      ]
    },
    {
      "cell_type": "code",
      "execution_count": null,
      "id": "78aa3c8d",
      "metadata": {
        "id": "78aa3c8d",
        "outputId": "c63cd6f7-095e-443a-f643-a6ab584bcc46"
      },
      "outputs": [
        {
          "data": {
            "text/html": [
              "<div>\n",
              "<style scoped>\n",
              "    .dataframe tbody tr th:only-of-type {\n",
              "        vertical-align: middle;\n",
              "    }\n",
              "\n",
              "    .dataframe tbody tr th {\n",
              "        vertical-align: top;\n",
              "    }\n",
              "\n",
              "    .dataframe thead th {\n",
              "        text-align: right;\n",
              "    }\n",
              "</style>\n",
              "<table border=\"1\" class=\"dataframe\">\n",
              "  <thead>\n",
              "    <tr style=\"text-align: right;\">\n",
              "      <th>Predicted</th>\n",
              "      <th>Fresh</th>\n",
              "      <th>Rotten</th>\n",
              "      <th>All</th>\n",
              "    </tr>\n",
              "    <tr>\n",
              "      <th>True</th>\n",
              "      <th></th>\n",
              "      <th></th>\n",
              "      <th></th>\n",
              "    </tr>\n",
              "  </thead>\n",
              "  <tbody>\n",
              "    <tr>\n",
              "      <th>Fresh</th>\n",
              "      <td>181968</td>\n",
              "      <td>22356</td>\n",
              "      <td>204324</td>\n",
              "    </tr>\n",
              "    <tr>\n",
              "      <th>Rotten</th>\n",
              "      <td>35343</td>\n",
              "      <td>79597</td>\n",
              "      <td>114940</td>\n",
              "    </tr>\n",
              "    <tr>\n",
              "      <th>All</th>\n",
              "      <td>217311</td>\n",
              "      <td>101953</td>\n",
              "      <td>319264</td>\n",
              "    </tr>\n",
              "  </tbody>\n",
              "</table>\n",
              "</div>"
            ],
            "text/plain": [
              "Predicted   Fresh  Rotten     All\n",
              "True                             \n",
              "Fresh      181968   22356  204324\n",
              "Rotten      35343   79597  114940\n",
              "All        217311  101953  319264"
            ]
          },
          "execution_count": 53,
          "metadata": {},
          "output_type": "execute_result"
        }
      ],
      "source": [
        "pd.crosstab(y_test, y_reglog, rownames=['True'], colnames=['Predicted'], margins=True)"
      ]
    },
    {
      "cell_type": "code",
      "execution_count": null,
      "id": "574754c9",
      "metadata": {
        "id": "574754c9"
      },
      "outputs": [],
      "source": [
        "# XGBoost\n",
        "from sklearn.ensemble import GradientBoostingClassifier\n",
        "\n",
        "class_xgb = Pipeline([('tfidf', TfidfVectorizer()),\n",
        "                    ('class', GradientBoostingClassifier())])\n",
        "\n",
        "class_xgb.fit(X_train, y_train)\n",
        "y_xgb = class_xgb.predict(X_test)"
      ]
    },
    {
      "cell_type": "code",
      "execution_count": null,
      "id": "d5ff4f97",
      "metadata": {
        "id": "d5ff4f97",
        "outputId": "76a9b6bd-6486-4595-820c-1c1171b5d363"
      },
      "outputs": [
        {
          "name": "stdout",
          "output_type": "stream",
          "text": [
            "              precision    recall  f1-score   support\n",
            "\n",
            "       Fresh       0.67      0.98      0.80    204324\n",
            "      Rotten       0.80      0.14      0.24    114940\n",
            "\n",
            "    accuracy                           0.68    319264\n",
            "   macro avg       0.74      0.56      0.52    319264\n",
            "weighted avg       0.72      0.68      0.60    319264\n",
            "\n"
          ]
        }
      ],
      "source": [
        "print(classification_report(y_test, y_xgb))"
      ]
    },
    {
      "cell_type": "code",
      "execution_count": null,
      "id": "f3a515f4",
      "metadata": {
        "id": "f3a515f4",
        "outputId": "ce3f2bff-49ab-479f-bd3d-52b11c9e2606"
      },
      "outputs": [
        {
          "data": {
            "text/html": [
              "<div>\n",
              "<style scoped>\n",
              "    .dataframe tbody tr th:only-of-type {\n",
              "        vertical-align: middle;\n",
              "    }\n",
              "\n",
              "    .dataframe tbody tr th {\n",
              "        vertical-align: top;\n",
              "    }\n",
              "\n",
              "    .dataframe thead th {\n",
              "        text-align: right;\n",
              "    }\n",
              "</style>\n",
              "<table border=\"1\" class=\"dataframe\">\n",
              "  <thead>\n",
              "    <tr style=\"text-align: right;\">\n",
              "      <th>Predicted</th>\n",
              "      <th>Fresh</th>\n",
              "      <th>Rotten</th>\n",
              "      <th>All</th>\n",
              "    </tr>\n",
              "    <tr>\n",
              "      <th>True</th>\n",
              "      <th></th>\n",
              "      <th></th>\n",
              "      <th></th>\n",
              "    </tr>\n",
              "  </thead>\n",
              "  <tbody>\n",
              "    <tr>\n",
              "      <th>Fresh</th>\n",
              "      <td>200315</td>\n",
              "      <td>4009</td>\n",
              "      <td>204324</td>\n",
              "    </tr>\n",
              "    <tr>\n",
              "      <th>Rotten</th>\n",
              "      <td>98448</td>\n",
              "      <td>16492</td>\n",
              "      <td>114940</td>\n",
              "    </tr>\n",
              "    <tr>\n",
              "      <th>All</th>\n",
              "      <td>298763</td>\n",
              "      <td>20501</td>\n",
              "      <td>319264</td>\n",
              "    </tr>\n",
              "  </tbody>\n",
              "</table>\n",
              "</div>"
            ],
            "text/plain": [
              "Predicted   Fresh  Rotten     All\n",
              "True                             \n",
              "Fresh      200315    4009  204324\n",
              "Rotten      98448   16492  114940\n",
              "All        298763   20501  319264"
            ]
          },
          "execution_count": 57,
          "metadata": {},
          "output_type": "execute_result"
        }
      ],
      "source": [
        "pd.crosstab(y_test, y_xgb, rownames=['True'], colnames=['Predicted'], margins=True)"
      ]
    },
    {
      "cell_type": "code",
      "execution_count": null,
      "id": "56806872",
      "metadata": {
        "id": "56806872"
      },
      "outputs": [],
      "source": [
        "# SVC\n",
        "from sklearn.svm import LinearSVC\n",
        "\n",
        "class_svc = Pipeline([('tfidf', TfidfVectorizer()),\n",
        "                    ('class', LinearSVC())])\n",
        "\n",
        "class_svc.fit(X_train, y_train)\n",
        "y_svc = class_svc.predict(X_test)"
      ]
    },
    {
      "cell_type": "code",
      "execution_count": null,
      "id": "7c4cd83d",
      "metadata": {
        "scrolled": true,
        "id": "7c4cd83d",
        "outputId": "9f9c3efa-07d7-48d2-9000-32d47238b85d"
      },
      "outputs": [
        {
          "name": "stdout",
          "output_type": "stream",
          "text": [
            "              precision    recall  f1-score   support\n",
            "\n",
            "       Fresh       0.84      0.88      0.86    204324\n",
            "      Rotten       0.77      0.71      0.74    114940\n",
            "\n",
            "    accuracy                           0.82    319264\n",
            "   macro avg       0.81      0.79      0.80    319264\n",
            "weighted avg       0.82      0.82      0.82    319264\n",
            "\n"
          ]
        }
      ],
      "source": [
        "print(classification_report(y_test, y_svc))"
      ]
    },
    {
      "cell_type": "code",
      "execution_count": null,
      "id": "54919eb7",
      "metadata": {
        "id": "54919eb7",
        "outputId": "b352ba96-9e97-402a-a6f5-ecbdc0cca514"
      },
      "outputs": [
        {
          "data": {
            "text/html": [
              "<div>\n",
              "<style scoped>\n",
              "    .dataframe tbody tr th:only-of-type {\n",
              "        vertical-align: middle;\n",
              "    }\n",
              "\n",
              "    .dataframe tbody tr th {\n",
              "        vertical-align: top;\n",
              "    }\n",
              "\n",
              "    .dataframe thead th {\n",
              "        text-align: right;\n",
              "    }\n",
              "</style>\n",
              "<table border=\"1\" class=\"dataframe\">\n",
              "  <thead>\n",
              "    <tr style=\"text-align: right;\">\n",
              "      <th>Predicted</th>\n",
              "      <th>Fresh</th>\n",
              "      <th>Rotten</th>\n",
              "      <th>All</th>\n",
              "    </tr>\n",
              "    <tr>\n",
              "      <th>True</th>\n",
              "      <th></th>\n",
              "      <th></th>\n",
              "      <th></th>\n",
              "    </tr>\n",
              "  </thead>\n",
              "  <tbody>\n",
              "    <tr>\n",
              "      <th>Fresh</th>\n",
              "      <td>180275</td>\n",
              "      <td>24049</td>\n",
              "      <td>204324</td>\n",
              "    </tr>\n",
              "    <tr>\n",
              "      <th>Rotten</th>\n",
              "      <td>33659</td>\n",
              "      <td>81281</td>\n",
              "      <td>114940</td>\n",
              "    </tr>\n",
              "    <tr>\n",
              "      <th>All</th>\n",
              "      <td>213934</td>\n",
              "      <td>105330</td>\n",
              "      <td>319264</td>\n",
              "    </tr>\n",
              "  </tbody>\n",
              "</table>\n",
              "</div>"
            ],
            "text/plain": [
              "Predicted   Fresh  Rotten     All\n",
              "True                             \n",
              "Fresh      180275   24049  204324\n",
              "Rotten      33659   81281  114940\n",
              "All        213934  105330  319264"
            ]
          },
          "execution_count": 61,
          "metadata": {},
          "output_type": "execute_result"
        }
      ],
      "source": [
        "pd.crosstab(y_test, y_svc, rownames=['True'], colnames=['Predicted'], margins=True)"
      ]
    },
    {
      "cell_type": "code",
      "execution_count": null,
      "id": "1632e227",
      "metadata": {
        "id": "1632e227"
      },
      "outputs": [],
      "source": [
        "from sklearn.neighbors import KNeighborsClassifier\n",
        "\n",
        "class_knn = Pipeline([('tfidf', TfidfVectorizer()),\n",
        "                    ('class', KNeighborsClassifier())])\n",
        "\n",
        "class_knn.fit(X_train, y_train)\n",
        "y_knn = class_knn.predict(X_test)"
      ]
    },
    {
      "cell_type": "code",
      "execution_count": null,
      "id": "ce405f03",
      "metadata": {
        "id": "ce405f03",
        "outputId": "781d74b6-6cda-4143-a2e3-b72cad38d13b"
      },
      "outputs": [
        {
          "name": "stdout",
          "output_type": "stream",
          "text": [
            "              precision    recall  f1-score   support\n",
            "\n",
            "       Fresh       0.68      0.69      0.68    204324\n",
            "      Rotten       0.43      0.43      0.43    114940\n",
            "\n",
            "    accuracy                           0.59    319264\n",
            "   macro avg       0.56      0.56      0.56    319264\n",
            "weighted avg       0.59      0.59      0.59    319264\n",
            "\n"
          ]
        }
      ],
      "source": [
        "print(classification_report(y_test, y_knn))"
      ]
    },
    {
      "cell_type": "code",
      "execution_count": null,
      "id": "89502f43",
      "metadata": {
        "id": "89502f43",
        "outputId": "5634ec54-272b-452c-d898-54239f95f4ac"
      },
      "outputs": [
        {
          "data": {
            "text/html": [
              "<div>\n",
              "<style scoped>\n",
              "    .dataframe tbody tr th:only-of-type {\n",
              "        vertical-align: middle;\n",
              "    }\n",
              "\n",
              "    .dataframe tbody tr th {\n",
              "        vertical-align: top;\n",
              "    }\n",
              "\n",
              "    .dataframe thead th {\n",
              "        text-align: right;\n",
              "    }\n",
              "</style>\n",
              "<table border=\"1\" class=\"dataframe\">\n",
              "  <thead>\n",
              "    <tr style=\"text-align: right;\">\n",
              "      <th>Predicted</th>\n",
              "      <th>Fresh</th>\n",
              "      <th>Rotten</th>\n",
              "      <th>All</th>\n",
              "    </tr>\n",
              "    <tr>\n",
              "      <th>True</th>\n",
              "      <th></th>\n",
              "      <th></th>\n",
              "      <th></th>\n",
              "    </tr>\n",
              "  </thead>\n",
              "  <tbody>\n",
              "    <tr>\n",
              "      <th>Fresh</th>\n",
              "      <td>140351</td>\n",
              "      <td>63973</td>\n",
              "      <td>204324</td>\n",
              "    </tr>\n",
              "    <tr>\n",
              "      <th>Rotten</th>\n",
              "      <td>65702</td>\n",
              "      <td>49238</td>\n",
              "      <td>114940</td>\n",
              "    </tr>\n",
              "    <tr>\n",
              "      <th>All</th>\n",
              "      <td>206053</td>\n",
              "      <td>113211</td>\n",
              "      <td>319264</td>\n",
              "    </tr>\n",
              "  </tbody>\n",
              "</table>\n",
              "</div>"
            ],
            "text/plain": [
              "Predicted   Fresh  Rotten     All\n",
              "True                             \n",
              "Fresh      140351   63973  204324\n",
              "Rotten      65702   49238  114940\n",
              "All        206053  113211  319264"
            ]
          },
          "execution_count": 65,
          "metadata": {},
          "output_type": "execute_result"
        }
      ],
      "source": [
        "pd.crosstab(y_test, y_knn, rownames=['True'], colnames=['Predicted'], margins=True)"
      ]
    },
    {
      "cell_type": "code",
      "execution_count": null,
      "id": "0768735b",
      "metadata": {
        "id": "0768735b",
        "outputId": "b39ccb8f-10b5-4591-89e7-37ccb4aeccff"
      },
      "outputs": [
        {
          "data": {
            "text/html": [
              "<div>\n",
              "<style scoped>\n",
              "    .dataframe tbody tr th:only-of-type {\n",
              "        vertical-align: middle;\n",
              "    }\n",
              "\n",
              "    .dataframe tbody tr th {\n",
              "        vertical-align: top;\n",
              "    }\n",
              "\n",
              "    .dataframe thead th {\n",
              "        text-align: right;\n",
              "    }\n",
              "</style>\n",
              "<table border=\"1\" class=\"dataframe\">\n",
              "  <thead>\n",
              "    <tr style=\"text-align: right;\">\n",
              "      <th></th>\n",
              "      <th>Accuracy</th>\n",
              "      <th>Model</th>\n",
              "    </tr>\n",
              "  </thead>\n",
              "  <tbody>\n",
              "    <tr>\n",
              "      <th>0</th>\n",
              "      <td>0.819247</td>\n",
              "      <td>Linear SVC</td>\n",
              "    </tr>\n",
              "    <tr>\n",
              "      <th>1</th>\n",
              "      <td>0.819275</td>\n",
              "      <td>Logistic Regression</td>\n",
              "    </tr>\n",
              "    <tr>\n",
              "      <th>2</th>\n",
              "      <td>0.679084</td>\n",
              "      <td>XGBoost</td>\n",
              "    </tr>\n",
              "    <tr>\n",
              "      <th>3</th>\n",
              "      <td>0.593831</td>\n",
              "      <td>KNN</td>\n",
              "    </tr>\n",
              "  </tbody>\n",
              "</table>\n",
              "</div>"
            ],
            "text/plain": [
              "   Accuracy                Model\n",
              "0  0.819247           Linear SVC\n",
              "1  0.819275  Logistic Regression\n",
              "2  0.679084              XGBoost\n",
              "3  0.593831                  KNN"
            ]
          },
          "execution_count": 69,
          "metadata": {},
          "output_type": "execute_result"
        }
      ],
      "source": [
        "model_performance = [accuracy_score(y_test, y_svc),accuracy_score(y_test, y_reglog),accuracy_score(y_test, y_xgb),accuracy_score(y_test, y_knn)]\n",
        "models = ['Linear SVC', 'Logistic Regression', 'XGBoost', 'KNN']\n",
        "df_model = pd.DataFrame(model_performance, columns=['Accuracy'])\n",
        "df_model['Model'] = models\n",
        "df_model"
      ]
    },
    {
      "cell_type": "code",
      "execution_count": null,
      "id": "ed4c1753",
      "metadata": {
        "id": "ed4c1753"
      },
      "outputs": [],
      "source": [
        ""
      ]
    }
  ],
  "metadata": {
    "kernelspec": {
      "display_name": "Python 3 (ipykernel)",
      "language": "python",
      "name": "python3"
    },
    "language_info": {
      "codemirror_mode": {
        "name": "ipython",
        "version": 3
      },
      "file_extension": ".py",
      "mimetype": "text/x-python",
      "name": "python",
      "nbconvert_exporter": "python",
      "pygments_lexer": "ipython3",
      "version": "3.10.2"
    },
    "colab": {
      "name": "Movie Classification.ipynb",
      "provenance": [],
      "include_colab_link": true
    }
  },
  "nbformat": 4,
  "nbformat_minor": 5
}